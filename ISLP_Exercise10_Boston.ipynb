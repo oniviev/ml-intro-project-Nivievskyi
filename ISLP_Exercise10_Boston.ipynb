{
 "cells": [
  {
   "cell_type": "markdown",
   "metadata": {},
   "source": [
    "# ISLP Chapter 2 – Exercise 10 (Boston Housing Data)"
   ]
  },
  {
   "cell_type": "code",
   "source": [
    "!pip install islp seaborn"
   ],
   "metadata": {},
   "execution_count": null,
   "outputs": []
  },
  {
   "cell_type": "code",
   "source": [
    "import pandas as pd\n",
    "import seaborn as sns\n",
    "import matplotlib.pyplot as plt\n",
    "from islp import load_data\n",
    "boston = load_data('Boston').dropna()\n",
    "boston.head()"
   ],
   "metadata": {},
   "execution_count": null,
   "outputs": []
  },
  {
   "cell_type": "code",
   "source": [
    "# (b) Dataset dimensions\n",
    "rows, cols = boston.shape\n",
    "print(f\"The Boston dataset has {rows} rows and {cols} columns.\")"
   ],
   "metadata": {},
   "execution_count": null,
   "outputs": []
  },
  {
   "cell_type": "code",
   "source": [
    "# (c) Pairwise scatterplots\n",
    "sns.pairplot(boston[['crim', 'tax', 'nox', 'rm', 'dis']], diag_kind='kde')\n",
    "plt.suptitle(\"Pairwise scatterplots (subset)\", y=1.02)\n",
    "plt.show()"
   ],
   "metadata": {},
   "execution_count": null,
   "outputs": []
  },
  {
   "cell_type": "code",
   "source": [
    "# (d) Correlation with crime rate\n",
    "correlations = boston.corr()['crim'].sort_values(ascending=False)\n",
    "print(correlations)"
   ],
   "metadata": {},
   "execution_count": null,
   "outputs": []
  },
  {
   "cell_type": "code",
   "source": [
    "# (e) Extremes of crime, tax, pupil-teacher ratio\n",
    "print(\"Highest crime rate suburb:\n", boston.loc[boston['crim'].idxmax()])\n",
    "print(\"\nHighest tax rate:\n", boston.loc[boston['tax'].idxmax()])\n",
    "print(\"\nHighest pupil-teacher ratio:\n", boston.loc[boston['ptratio'].idxmax()])\n",
    "boston[['crim', 'tax', 'ptratio']].agg(['min', 'max'])"
   ],
   "metadata": {},
   "execution_count": null,
   "outputs": []
  },
  {
   "cell_type": "code",
   "source": [
    "# (f) Suburbs that bound the Charles River\n",
    "num_river = boston['chas'].sum()\n",
    "print(f\"{int(num_river)} suburbs bound the Charles River.\")"
   ],
   "metadata": {},
   "execution_count": null,
   "outputs": []
  },
  {
   "cell_type": "code",
   "source": [
    "# (g) Median pupil-teacher ratio\n",
    "median_ptratio = boston['ptratio'].median()\n",
    "print(f\"The median pupil-teacher ratio is {median_ptratio}.\")"
   ],
   "metadata": {},
   "execution_count": null,
   "outputs": []
  },
  {
   "cell_type": "code",
   "source": [
    "# (h) Suburb with lowest median value\n",
    "min_medv = boston['medv'].min()\n",
    "lowest = boston[boston['medv'] == min_medv]\n",
    "print(\"Suburb(s) with lowest median value:\n", lowest)\n",
    "boston.describe().loc[['min', 'max']]"
   ],
   "metadata": {},
   "execution_count": null,
   "outputs": []
  },
  {
   "cell_type": "code",
   "source": [
    "# (i) Suburbs with high average number of rooms\n",
    "more_than_7 = boston[boston['rm'] > 7].shape[0]\n",
    "more_than_8 = boston[boston['rm'] > 8]\n",
    "print(f\"{more_than_7} suburbs average more than 7 rooms per dwelling.\")\n",
    "print(f\"{more_than_8.shape[0]} suburbs average more than 8 rooms per dwelling.\")\n",
    "more_than_8[['rm', 'medv']]"
   ],
   "metadata": {},
   "execution_count": null,
   "outputs": []
  }
 ],
 "metadata": {
  "kernelspec": {
   "display_name": "Python 3",
   "language": "python",
   "name": "python3"
  },
  "language_info": {
   "name": "python"
  }
 },
 "nbformat": 4,
 "nbformat_minor": 5
}
