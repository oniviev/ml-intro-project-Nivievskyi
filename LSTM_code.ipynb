{
  "nbformat": 4,
  "nbformat_minor": 0,
  "metadata": {
    "colab": {
      "provenance": [],
      "authorship_tag": "ABX9TyMyNyxHwjFAB7dpZTAL2zUI",
      "include_colab_link": true
    },
    "kernelspec": {
      "name": "python3",
      "display_name": "Python 3"
    },
    "language_info": {
      "name": "python"
    }
  },
  "cells": [
    {
      "cell_type": "markdown",
      "metadata": {
        "id": "view-in-github",
        "colab_type": "text"
      },
      "source": [
        "<a href=\"https://colab.research.google.com/github/oniviev/ml-intro-project-Nivievskyi/blob/main/LSTM_code.ipynb\" target=\"_parent\"><img src=\"https://colab.research.google.com/assets/colab-badge.svg\" alt=\"Open In Colab\"/></a>"
      ]
    },
    {
      "cell_type": "code",
      "source": [
        "#@author: brign\n",
        "\n",
        "import IPython\n",
        "import IPython.display\n",
        "import pandas as pd\n",
        "from pandas import Series\n",
        "import matplotlib.pyplot as plt\n",
        "from math import sqrt\n",
        "import numpy as np\n",
        "import sklearn as sk\n",
        "from sklearn import preprocessing\n",
        "from sklearn.preprocessing import StandardScaler\n",
        "import tensorflow as tf\n",
        "from tensorflow import keras\n",
        "from tensorflow.keras import models\n",
        "from tensorflow.keras import layers"
      ],
      "metadata": {
        "id": "_Z6HewtmDXTT"
      },
      "execution_count": 2,
      "outputs": []
    },
    {
      "cell_type": "code",
      "source": [
        "# prompt: import data file from my google drive\n",
        "from google.colab import drive\n",
        "drive.mount('/content/drive')"
      ],
      "metadata": {
        "colab": {
          "base_uri": "https://localhost:8080/"
        },
        "id": "iHQgfKZXEQo6",
        "outputId": "081a13ea-61ce-447e-aae5-becd3e1723fe"
      },
      "execution_count": 6,
      "outputs": [
        {
          "output_type": "stream",
          "name": "stdout",
          "text": [
            "Mounted at /content/drive\n"
          ]
        }
      ]
    },
    {
      "cell_type": "code",
      "source": [
        "# Assuming your data file is named 'your_data_file.csv' and located in 'My Drive/Data'\n",
        "# Replace with your actual file path\n",
        "file_path = '/content/drive/My Drive/data/LSTM - data.xlsx'\n",
        "#file_path = '/content/drive/My Drive/data/prices sunflower 2000-2025.xlsx'\n",
        "#df = pd.read_excel(file_path)"
      ],
      "metadata": {
        "id": "40mwT-AkEXNp"
      },
      "execution_count": 7,
      "outputs": []
    },
    {
      "cell_type": "code",
      "source": [
        "########################################## Load data ############################################################\n",
        "# Read data\n",
        "df = pd.read_excel(file_path)\n",
        "n = len(df)\n",
        "\n",
        "column_indices = {name: i for i, name in enumerate(df.columns)}\n",
        "print(column_indices)"
      ],
      "metadata": {
        "colab": {
          "base_uri": "https://localhost:8080/"
        },
        "id": "398gwJ6vDifC",
        "outputId": "47b87699-7cde-4fe4-aef8-0c338621b245"
      },
      "execution_count": 8,
      "outputs": [
        {
          "output_type": "stream",
          "name": "stdout",
          "text": [
            "{'Corn': 0, 'Soybean': 1, 'HardW': 2, 'SoftW': 3, 'SP': 4, 'Nasdaq': 5, 'Gold': 6, 'WTI': 7, 'Dollar': 8, 'Milk': 9, 'Fcattle': 10, 'Lcattle': 11, 'Gasoline': 12}\n"
          ]
        }
      ]
    },
    {
      "cell_type": "code",
      "source": [
        "########################################## Train and test split #################################################\n",
        "train_df = df[0:int(n*0.7)]\n",
        "val_df = df[int(n*0.7):int(n*0.9)]\n",
        "test_df = df[int(n*0.9):]"
      ],
      "metadata": {
        "id": "4hPFK7qBFvyz"
      },
      "execution_count": 9,
      "outputs": []
    },
    {
      "cell_type": "code",
      "source": [
        "########################################## Standardisation ######################################################\n",
        "# train values are used across all datasets to not introduce informations which would not available to the model\n",
        "#train_mean = train_df.mean()\n",
        "#train_std = train_df.std()\n",
        "#print(train_mean)\n",
        "#print(train_std)\n",
        "#train_df = (train_df - train_mean) / train_std\n",
        "#val_df = (val_df - train_mean) / train_std\n",
        "#test_df = (test_df - train_mean) / train_std\n",
        "\n",
        "num_features = df.shape[1]\n",
        "print(train_df.shape)\n",
        "print(val_df.shape)\n",
        "print(test_df.shape)\n",
        "print(num_features)"
      ],
      "metadata": {
        "colab": {
          "base_uri": "https://localhost:8080/"
        },
        "id": "9d34YCgpF2Ck",
        "outputId": "17e6dea3-e4bf-4d1b-e470-38f2a066027d"
      },
      "execution_count": 10,
      "outputs": [
        {
          "output_type": "stream",
          "name": "stdout",
          "text": [
            "(3621, 13)\n",
            "(1035, 13)\n",
            "(518, 13)\n",
            "13\n"
          ]
        }
      ]
    },
    {
      "cell_type": "code",
      "source": [
        "########################################## Rolling Window approach - generation of data window ##################\n",
        "# Define the class to then generate the windows\n",
        "class WindowGenerator():\n",
        "  def __init__(self, input_width, label_width, shift,\n",
        "               train_df=train_df, val_df=val_df, test_df=test_df,\n",
        "               label_columns=None):\n",
        "    # Store the raw data\n",
        "    self.train_df = train_df\n",
        "    self.val_df = val_df\n",
        "    self.test_df = test_df\n",
        "\n",
        "    # Label column indices\n",
        "    self.label_columns = label_columns\n",
        "    if label_columns is not None:\n",
        "      self.label_columns_indices = {name: i for i, name in\n",
        "                                    enumerate(label_columns)}\n",
        "    self.column_indices = {name: i for i, name in\n",
        "                           enumerate(train_df.columns)}\n",
        "\n",
        "    # Window parameter\n",
        "    self.input_width = input_width\n",
        "    self.label_width = label_width\n",
        "    self.shift = shift\n",
        "\n",
        "    self.total_window_size = input_width + shift\n",
        "\n",
        "\n",
        "    self.input_slice = slice(0, input_width)\n",
        "    self.input_indices = np.arange(self.total_window_size)[self.input_slice]\n",
        "\n",
        "    self.label_start = self.total_window_size - self.label_width\n",
        "    self.labels_slice = slice(self.label_start, None)\n",
        "    self.label_indices = np.arange(self.total_window_size)[self.labels_slice]\n",
        "\n",
        "  # To check dimensions\n",
        "  def __repr__(self):\n",
        "    return '\\n'.join([\n",
        "        f'Total window size: {self.total_window_size}',\n",
        "        f'Input indices: {self.input_indices}',\n",
        "        f'Label indices: {self.label_indices}',\n",
        "        f'Label column name(s): {self.label_columns}'])"
      ],
      "metadata": {
        "id": "cpzhfRgPF_nz"
      },
      "execution_count": 11,
      "outputs": []
    },
    {
      "cell_type": "code",
      "source": [
        "########################################## Rolling Window approach - generation of data window ##################\n",
        "# Define the class to then generate the windows\n",
        "class WindowGenerator():\n",
        "  def __init__(self, input_width, label_width, shift,\n",
        "               train_df=train_df, val_df=val_df, test_df=test_df,\n",
        "               label_columns=None):\n",
        "    # Store the raw data\n",
        "    self.train_df = train_df\n",
        "    self.val_df = val_df\n",
        "    self.test_df = test_df\n",
        "\n",
        "    # Label column indices\n",
        "    self.label_columns = label_columns\n",
        "    if label_columns is not None:\n",
        "      self.label_columns_indices = {name: i for i, name in\n",
        "                                    enumerate(label_columns)}\n",
        "    self.column_indices = {name: i for i, name in\n",
        "                           enumerate(train_df.columns)}\n",
        "\n",
        "    # Window parameter\n",
        "    self.input_width = input_width\n",
        "    self.label_width = label_width\n",
        "    self.shift = shift\n",
        "\n",
        "    self.total_window_size = input_width + shift\n",
        "\n",
        "\n",
        "    self.input_slice = slice(0, input_width)\n",
        "    self.input_indices = np.arange(self.total_window_size)[self.input_slice]\n",
        "\n",
        "    self.label_start = self.total_window_size - self.label_width\n",
        "    self.labels_slice = slice(self.label_start, None)\n",
        "    self.label_indices = np.arange(self.total_window_size)[self.labels_slice]\n",
        "\n",
        "  # To check dimensions\n",
        "  def __repr__(self):\n",
        "    return '\\n'.join([\n",
        "        f'Total window size: {self.total_window_size}',\n",
        "        f'Input indices: {self.input_indices}',\n",
        "        f'Label indices: {self.label_indices}',\n",
        "        f'Label column name(s): {self.label_columns}'])\n",
        "\n",
        "  # To plot the data and predictions\n",
        "  def plot(self, model=None, plot_col='Corn', max_subplots=3):\n",
        "    inputs, labels = self.example\n",
        "    plt.figure(figsize=(12, 8))\n",
        "    plot_col_index = self.column_indices[plot_col]\n",
        "    max_n = min(max_subplots, len(inputs))\n",
        "    for n in range(max_n):\n",
        "      plt.subplot(max_n, 1, n+1)\n",
        "      plt.ylabel(f'{plot_col} [normed]')\n",
        "      plt.plot(self.input_indices, inputs[n, :, plot_col_index],\n",
        "              label='Inputs', marker='.', zorder=-10)\n",
        "\n",
        "      if self.label_columns:\n",
        "        label_col_index = self.label_columns_indices.get(plot_col, None)\n",
        "      else:\n",
        "        label_col_index = plot_col_index\n",
        "\n",
        "      if label_col_index is None:\n",
        "        continue\n",
        "\n",
        "      plt.scatter(self.label_indices, labels[n, :, label_col_index],\n",
        "                  edgecolors='k', label='Labels', c='#2ca02c', s=64)\n",
        "      if model is not None:\n",
        "        predictions = model(inputs)\n",
        "        plt.scatter(self.label_indices, predictions[n, :, label_col_index],\n",
        "                    marker='X', edgecolors='k', label='Predictions',\n",
        "                    c='#ff7f0e', s=64)\n",
        "\n",
        "      if n == 0:\n",
        "        plt.legend()\n",
        "\n",
        "    plt.xlabel('Time [days]')\n",
        "\n",
        "  @property\n",
        "  def example(self):\n",
        "    \"\"\"Get a single example batch of inputs and labels.\"\"\"\n",
        "    result = getattr(self, '_example', None)\n",
        "    if result is None:\n",
        "      # No example batch was stored yet, so get one from the test dataset\n",
        "      result = next(iter(self.test))\n",
        "      # Store it for next time\n",
        "      self._example = result\n",
        "    return result"
      ],
      "metadata": {
        "id": "m7z9QcM6Rfl9"
      },
      "execution_count": 15,
      "outputs": []
    },
    {
      "cell_type": "code",
      "source": [
        "# Forecast horizon\n",
        "OUT_STEPS = 30\n",
        "w1 = WindowGenerator(input_width=365 , label_width=OUT_STEPS, shift= OUT_STEPS,\n",
        "                     label_columns=['Corn'])\n",
        "print(w1)\n",
        "\n",
        "# To split original datasets into features and label windows of data\n",
        "def split_window(self, features):\n",
        "  inputs = features[:, self.input_slice, :]\n",
        "  labels = features[:, self.labels_slice, :]\n",
        "  if self.label_columns is not None:\n",
        "    labels = tf.stack(\n",
        "        [labels[:, :, self.column_indices[name]] for name in self.label_columns],\n",
        "        axis=-1)\n",
        "\n",
        "  # Slicing doesn't preserve static shape information, so set the shapes\n",
        "  # manually. This way the `tf.data.Datasets` are easier to inspect.\n",
        "  inputs.set_shape([None, self.input_width, None])\n",
        "  labels.set_shape([None, self.label_width, None])\n",
        "\n",
        "  return inputs, labels\n",
        "\n",
        "WindowGenerator.split_window = split_window\n",
        "\n",
        "# To create a tf.data.Dataset made of input and label windows\n",
        "def make_dataset(self, data):\n",
        "  data = np.array(data, dtype=np.float32)\n",
        "  ds = tf.keras.preprocessing.timeseries_dataset_from_array(\n",
        "      data=data,\n",
        "      targets=None,\n",
        "      sequence_length=self.total_window_size,\n",
        "      sequence_stride=180,\n",
        "      shuffle=False,\n",
        "      batch_size=128)\n",
        "\n",
        "  ds = ds.map(self.split_window)\n",
        "\n",
        "  return ds\n",
        "\n",
        "WindowGenerator.make_dataset = make_dataset\n",
        "\n",
        "# To access the raw data from the tf.data.Dataset\n",
        "@property\n",
        "def train(self):\n",
        "  return self.make_dataset(self.train_df)\n",
        "\n",
        "@property\n",
        "def val(self):\n",
        "  return self.make_dataset(self.val_df)\n",
        "\n",
        "@property\n",
        "def test(self):\n",
        "  return self.make_dataset(self.test_df)\n",
        "\n",
        "WindowGenerator.train = train\n",
        "WindowGenerator.val = val\n",
        "WindowGenerator.test = test"
      ],
      "metadata": {
        "colab": {
          "base_uri": "https://localhost:8080/"
        },
        "id": "-sadUU9XGITq",
        "outputId": "f550c1dc-eebe-4547-f8d5-0ee431d26ff0"
      },
      "execution_count": 17,
      "outputs": [
        {
          "output_type": "stream",
          "name": "stdout",
          "text": [
            "Total window size: 395\n",
            "Input indices: [  0   1   2   3   4   5   6   7   8   9  10  11  12  13  14  15  16  17\n",
            "  18  19  20  21  22  23  24  25  26  27  28  29  30  31  32  33  34  35\n",
            "  36  37  38  39  40  41  42  43  44  45  46  47  48  49  50  51  52  53\n",
            "  54  55  56  57  58  59  60  61  62  63  64  65  66  67  68  69  70  71\n",
            "  72  73  74  75  76  77  78  79  80  81  82  83  84  85  86  87  88  89\n",
            "  90  91  92  93  94  95  96  97  98  99 100 101 102 103 104 105 106 107\n",
            " 108 109 110 111 112 113 114 115 116 117 118 119 120 121 122 123 124 125\n",
            " 126 127 128 129 130 131 132 133 134 135 136 137 138 139 140 141 142 143\n",
            " 144 145 146 147 148 149 150 151 152 153 154 155 156 157 158 159 160 161\n",
            " 162 163 164 165 166 167 168 169 170 171 172 173 174 175 176 177 178 179\n",
            " 180 181 182 183 184 185 186 187 188 189 190 191 192 193 194 195 196 197\n",
            " 198 199 200 201 202 203 204 205 206 207 208 209 210 211 212 213 214 215\n",
            " 216 217 218 219 220 221 222 223 224 225 226 227 228 229 230 231 232 233\n",
            " 234 235 236 237 238 239 240 241 242 243 244 245 246 247 248 249 250 251\n",
            " 252 253 254 255 256 257 258 259 260 261 262 263 264 265 266 267 268 269\n",
            " 270 271 272 273 274 275 276 277 278 279 280 281 282 283 284 285 286 287\n",
            " 288 289 290 291 292 293 294 295 296 297 298 299 300 301 302 303 304 305\n",
            " 306 307 308 309 310 311 312 313 314 315 316 317 318 319 320 321 322 323\n",
            " 324 325 326 327 328 329 330 331 332 333 334 335 336 337 338 339 340 341\n",
            " 342 343 344 345 346 347 348 349 350 351 352 353 354 355 356 357 358 359\n",
            " 360 361 362 363 364]\n",
            "Label indices: [365 366 367 368 369 370 371 372 373 374 375 376 377 378 379 380 381 382\n",
            " 383 384 385 386 387 388 389 390 391 392 393 394]\n",
            "Label column name(s): ['Corn']\n"
          ]
        }
      ]
    },
    {
      "cell_type": "code",
      "source": [
        "########################################## The model ############################################################\n",
        "# Keep in mind that the hyperparameters need to be tuned, the one here represented should not\n",
        "# be considered as optimal\n",
        "\n",
        "# Number of training epochs\n",
        "MAX_EPOCHS = 100\n",
        "\n",
        "# To compile and fit the model\n",
        "def compile_and_fit(model, window, patience=2):\n",
        "  early_stopping = tf.keras.callbacks.EarlyStopping(monitor='val_loss',\n",
        "                                                    patience=patience,\n",
        "                                                    mode='min')\n",
        "\n",
        "  model.compile(loss=tf.losses.MeanSquaredError(),\n",
        "                optimizer=tf.optimizers.Adamax(learning_rate=0.0007187240050394409),\n",
        "                metrics=[tf.metrics.MeanAbsoluteError()])\n",
        "\n",
        "  history = model.fit(window.train, epochs=MAX_EPOCHS,\n",
        "                      validation_data=window.val,\n",
        "                      callbacks=[early_stopping])\n",
        "  return history\n",
        "\n",
        "# Building the model\n",
        "lstm_model = tf.keras.models.Sequential([\n",
        "    # Shape [batch, time, features] => [batch, time, lstm_units]\n",
        "\n",
        "     tf.keras.layers.LSTM(512, return_sequences = True,\n",
        "                         kernel_regularizer=tf.keras.regularizers.l2(0.020750955184456563)),\n",
        "     tf.keras.layers.LSTM(512, return_sequences = True,\n",
        "                         kernel_regularizer=tf.keras.regularizers.l2(0.020750955184456563)),\n",
        "     tf.keras.layers.LSTM(512, return_sequences = True,\n",
        "                         kernel_regularizer=tf.keras.regularizers.l2(0.020750955184456563)),\n",
        "     tf.keras.layers.LSTM(512, return_sequences = True,\n",
        "                         kernel_regularizer=tf.keras.regularizers.l2(0.020750955184456563)),\n",
        "     tf.keras.layers.LSTM(512, return_sequences = True,\n",
        "                         kernel_regularizer=tf.keras.regularizers.l2(0.020750955184456563)),\n",
        "     tf.keras.layers.LSTM(512, return_sequences = False,\n",
        "                         kernel_regularizer=tf.keras.regularizers.l2(0.020750955184456563)),\n",
        "#   # Shape => [batch, time, features]\n",
        "     tf.keras.layers.Dense(OUT_STEPS*num_features, kernel_initializer=tf.initializers.zeros),\n",
        "     tf.keras.layers.Reshape([OUT_STEPS, num_features])\n",
        "])\n",
        "\n",
        "# Compile and fit the model\n",
        "history = compile_and_fit(lstm_model, w1)"
      ],
      "metadata": {
        "colab": {
          "base_uri": "https://localhost:8080/"
        },
        "id": "zZf3SNGsGQGT",
        "outputId": "b9c5a0ed-ec06-412e-a422-a268ca137ecb"
      },
      "execution_count": 13,
      "outputs": [
        {
          "output_type": "stream",
          "name": "stdout",
          "text": [
            "Epoch 1/100\n",
            "\u001b[1m1/1\u001b[0m \u001b[32m━━━━━━━━━━━━━━━━━━━━\u001b[0m\u001b[37m\u001b[0m \u001b[1m50s\u001b[0m 50s/step - loss: 184533.5312 - mean_absolute_error: 393.4042 - val_loss: 128116.0391 - val_mean_absolute_error: 357.4555\n",
            "Epoch 2/100\n",
            "\u001b[1m1/1\u001b[0m \u001b[32m━━━━━━━━━━━━━━━━━━━━\u001b[0m\u001b[37m\u001b[0m \u001b[1m41s\u001b[0m 41s/step - loss: 184521.2969 - mean_absolute_error: 393.3936 - val_loss: 128044.6562 - val_mean_absolute_error: 357.3586\n",
            "Epoch 3/100\n",
            "\u001b[1m1/1\u001b[0m \u001b[32m━━━━━━━━━━━━━━━━━━━━\u001b[0m\u001b[37m\u001b[0m \u001b[1m38s\u001b[0m 38s/step - loss: 184427.1719 - mean_absolute_error: 393.2773 - val_loss: 127897.0547 - val_mean_absolute_error: 357.1536\n",
            "Epoch 4/100\n",
            "\u001b[1m1/1\u001b[0m \u001b[32m━━━━━━━━━━━━━━━━━━━━\u001b[0m\u001b[37m\u001b[0m \u001b[1m41s\u001b[0m 41s/step - loss: 184278.0469 - mean_absolute_error: 393.0884 - val_loss: 127753.7656 - val_mean_absolute_error: 356.9541\n",
            "Epoch 5/100\n",
            "\u001b[1m1/1\u001b[0m \u001b[32m━━━━━━━━━━━━━━━━━━━━\u001b[0m\u001b[37m\u001b[0m \u001b[1m40s\u001b[0m 40s/step - loss: 184125.2812 - mean_absolute_error: 392.8950 - val_loss: 127614.2500 - val_mean_absolute_error: 356.7597\n",
            "Epoch 6/100\n",
            "\u001b[1m1/1\u001b[0m \u001b[32m━━━━━━━━━━━━━━━━━━━━\u001b[0m\u001b[37m\u001b[0m \u001b[1m42s\u001b[0m 42s/step - loss: 183972.2969 - mean_absolute_error: 392.7012 - val_loss: 127463.5156 - val_mean_absolute_error: 356.5493\n",
            "Epoch 7/100\n",
            "\u001b[1m1/1\u001b[0m \u001b[32m━━━━━━━━━━━━━━━━━━━━\u001b[0m\u001b[37m\u001b[0m \u001b[1m35s\u001b[0m 35s/step - loss: 183806.5156 - mean_absolute_error: 392.4909 - val_loss: 127292.5781 - val_mean_absolute_error: 356.3105\n",
            "Epoch 8/100\n",
            "\u001b[1m1/1\u001b[0m \u001b[32m━━━━━━━━━━━━━━━━━━━━\u001b[0m\u001b[37m\u001b[0m \u001b[1m42s\u001b[0m 42s/step - loss: 183618.4219 - mean_absolute_error: 392.2521 - val_loss: 127099.8359 - val_mean_absolute_error: 356.0409\n",
            "Epoch 9/100\n",
            "\u001b[1m1/1\u001b[0m \u001b[32m━━━━━━━━━━━━━━━━━━━━\u001b[0m\u001b[37m\u001b[0m \u001b[1m82s\u001b[0m 82s/step - loss: 183406.3281 - mean_absolute_error: 391.9825 - val_loss: 126889.7734 - val_mean_absolute_error: 355.7466\n",
            "Epoch 10/100\n",
            "\u001b[1m1/1\u001b[0m \u001b[32m━━━━━━━━━━━━━━━━━━━━\u001b[0m\u001b[37m\u001b[0m \u001b[1m86s\u001b[0m 86s/step - loss: 183175.0938 - mean_absolute_error: 391.6883 - val_loss: 126671.0781 - val_mean_absolute_error: 355.4399\n",
            "Epoch 11/100\n",
            "\u001b[1m1/1\u001b[0m \u001b[32m━━━━━━━━━━━━━━━━━━━━\u001b[0m\u001b[37m\u001b[0m \u001b[1m46s\u001b[0m 46s/step - loss: 182934.3906 - mean_absolute_error: 391.3816 - val_loss: 126451.8047 - val_mean_absolute_error: 355.1322\n",
            "Epoch 12/100\n",
            "\u001b[1m1/1\u001b[0m \u001b[32m━━━━━━━━━━━━━━━━━━━━\u001b[0m\u001b[37m\u001b[0m \u001b[1m46s\u001b[0m 46s/step - loss: 182692.9688 - mean_absolute_error: 391.0739 - val_loss: 126235.4297 - val_mean_absolute_error: 354.8282\n",
            "Epoch 13/100\n",
            "\u001b[1m1/1\u001b[0m \u001b[32m━━━━━━━━━━━━━━━━━━━━\u001b[0m\u001b[37m\u001b[0m \u001b[1m41s\u001b[0m 41s/step - loss: 182454.7656 - mean_absolute_error: 390.7699 - val_loss: 126021.8047 - val_mean_absolute_error: 354.5279\n",
            "Epoch 14/100\n",
            "\u001b[1m1/1\u001b[0m \u001b[32m━━━━━━━━━━━━━━━━━━━━\u001b[0m\u001b[37m\u001b[0m \u001b[1m40s\u001b[0m 40s/step - loss: 182219.5781 - mean_absolute_error: 390.4696 - val_loss: 125809.1953 - val_mean_absolute_error: 354.2286\n",
            "Epoch 15/100\n",
            "\u001b[1m1/1\u001b[0m \u001b[32m━━━━━━━━━━━━━━━━━━━━\u001b[0m\u001b[37m\u001b[0m \u001b[1m43s\u001b[0m 43s/step - loss: 181985.4844 - mean_absolute_error: 390.1703 - val_loss: 125595.7344 - val_mean_absolute_error: 353.9280\n",
            "Epoch 16/100\n",
            "\u001b[1m1/1\u001b[0m \u001b[32m━━━━━━━━━━━━━━━━━━━━\u001b[0m\u001b[37m\u001b[0m \u001b[1m45s\u001b[0m 45s/step - loss: 181750.3438 - mean_absolute_error: 389.8696 - val_loss: 125380.0938 - val_mean_absolute_error: 353.6239\n",
            "Epoch 17/100\n",
            "\u001b[1m1/1\u001b[0m \u001b[32m━━━━━━━━━━━━━━━━━━━━\u001b[0m\u001b[37m\u001b[0m \u001b[1m40s\u001b[0m 40s/step - loss: 181512.8750 - mean_absolute_error: 389.5656 - val_loss: 125161.5625 - val_mean_absolute_error: 353.3155\n",
            "Epoch 18/100\n",
            "\u001b[1m1/1\u001b[0m \u001b[32m━━━━━━━━━━━━━━━━━━━━\u001b[0m\u001b[37m\u001b[0m \u001b[1m41s\u001b[0m 41s/step - loss: 181272.1875 - mean_absolute_error: 389.2572 - val_loss: 124939.8906 - val_mean_absolute_error: 353.0024\n",
            "Epoch 19/100\n",
            "\u001b[1m1/1\u001b[0m \u001b[32m━━━━━━━━━━━━━━━━━━━━\u001b[0m\u001b[37m\u001b[0m \u001b[1m43s\u001b[0m 43s/step - loss: 181028.0000 - mean_absolute_error: 388.9441 - val_loss: 124715.0391 - val_mean_absolute_error: 352.6845\n",
            "Epoch 20/100\n",
            "\u001b[1m1/1\u001b[0m \u001b[32m━━━━━━━━━━━━━━━━━━━━\u001b[0m\u001b[37m\u001b[0m \u001b[1m46s\u001b[0m 46s/step - loss: 180780.3281 - mean_absolute_error: 388.6262 - val_loss: 124487.2422 - val_mean_absolute_error: 352.3621\n",
            "Epoch 21/100\n",
            "\u001b[1m1/1\u001b[0m \u001b[32m━━━━━━━━━━━━━━━━━━━━\u001b[0m\u001b[37m\u001b[0m \u001b[1m41s\u001b[0m 41s/step - loss: 180529.3438 - mean_absolute_error: 388.3038 - val_loss: 124256.6562 - val_mean_absolute_error: 352.0354\n",
            "Epoch 22/100\n",
            "\u001b[1m1/1\u001b[0m \u001b[32m━━━━━━━━━━━━━━━━━━━━\u001b[0m\u001b[37m\u001b[0m \u001b[1m40s\u001b[0m 40s/step - loss: 180275.2500 - mean_absolute_error: 387.9771 - val_loss: 124023.4844 - val_mean_absolute_error: 351.7048\n",
            "Epoch 23/100\n",
            "\u001b[1m1/1\u001b[0m \u001b[32m━━━━━━━━━━━━━━━━━━━━\u001b[0m\u001b[37m\u001b[0m \u001b[1m43s\u001b[0m 43s/step - loss: 180018.3125 - mean_absolute_error: 387.6464 - val_loss: 123787.9922 - val_mean_absolute_error: 351.3704\n",
            "Epoch 24/100\n",
            "\u001b[1m1/1\u001b[0m \u001b[32m━━━━━━━━━━━━━━━━━━━━\u001b[0m\u001b[37m\u001b[0m \u001b[1m81s\u001b[0m 81s/step - loss: 179758.7812 - mean_absolute_error: 387.3121 - val_loss: 123550.2891 - val_mean_absolute_error: 351.0327\n",
            "Epoch 25/100\n",
            "\u001b[1m1/1\u001b[0m \u001b[32m━━━━━━━━━━━━━━━━━━━━\u001b[0m\u001b[37m\u001b[0m \u001b[1m87s\u001b[0m 87s/step - loss: 179496.7969 - mean_absolute_error: 386.9743 - val_loss: 123310.6016 - val_mean_absolute_error: 350.6917\n",
            "Epoch 26/100\n",
            "\u001b[1m1/1\u001b[0m \u001b[32m━━━━━━━━━━━━━━━━━━━━\u001b[0m\u001b[37m\u001b[0m \u001b[1m75s\u001b[0m 75s/step - loss: 179232.6094 - mean_absolute_error: 386.6334 - val_loss: 123069.1172 - val_mean_absolute_error: 350.3479\n",
            "Epoch 27/100\n",
            "\u001b[1m1/1\u001b[0m \u001b[32m━━━━━━━━━━━━━━━━━━━━\u001b[0m\u001b[37m\u001b[0m \u001b[1m37s\u001b[0m 37s/step - loss: 178966.4375 - mean_absolute_error: 386.2895 - val_loss: 122826.0312 - val_mean_absolute_error: 350.0013\n",
            "Epoch 28/100\n",
            "\u001b[1m1/1\u001b[0m \u001b[32m━━━━━━━━━━━━━━━━━━━━\u001b[0m\u001b[37m\u001b[0m \u001b[1m47s\u001b[0m 47s/step - loss: 178698.4062 - mean_absolute_error: 385.9430 - val_loss: 122581.5078 - val_mean_absolute_error: 349.6524\n",
            "Epoch 29/100\n",
            "\u001b[1m1/1\u001b[0m \u001b[32m━━━━━━━━━━━━━━━━━━━━\u001b[0m\u001b[37m\u001b[0m \u001b[1m80s\u001b[0m 80s/step - loss: 178428.7656 - mean_absolute_error: 385.5941 - val_loss: 122335.7188 - val_mean_absolute_error: 349.3013\n",
            "Epoch 30/100\n",
            "\u001b[1m1/1\u001b[0m \u001b[32m━━━━━━━━━━━━━━━━━━━━\u001b[0m\u001b[37m\u001b[0m \u001b[1m81s\u001b[0m 81s/step - loss: 178157.7656 - mean_absolute_error: 385.2430 - val_loss: 122088.8438 - val_mean_absolute_error: 348.9483\n",
            "Epoch 31/100\n",
            "\u001b[1m1/1\u001b[0m \u001b[32m━━━━━━━━━━━━━━━━━━━━\u001b[0m\u001b[37m\u001b[0m \u001b[1m40s\u001b[0m 40s/step - loss: 177885.5781 - mean_absolute_error: 384.8900 - val_loss: 121841.0859 - val_mean_absolute_error: 348.5937\n",
            "Epoch 32/100\n",
            "\u001b[1m1/1\u001b[0m \u001b[32m━━━━━━━━━━━━━━━━━━━━\u001b[0m\u001b[37m\u001b[0m \u001b[1m43s\u001b[0m 43s/step - loss: 177612.2812 - mean_absolute_error: 384.5354 - val_loss: 121592.5156 - val_mean_absolute_error: 348.2375\n",
            "Epoch 33/100\n",
            "\u001b[1m1/1\u001b[0m \u001b[32m━━━━━━━━━━━━━━━━━━━━\u001b[0m\u001b[37m\u001b[0m \u001b[1m79s\u001b[0m 79s/step - loss: 177338.1094 - mean_absolute_error: 384.1792 - val_loss: 121343.2734 - val_mean_absolute_error: 347.8800\n",
            "Epoch 34/100\n",
            "\u001b[1m1/1\u001b[0m \u001b[32m━━━━━━━━━━━━━━━━━━━━\u001b[0m\u001b[37m\u001b[0m \u001b[1m39s\u001b[0m 39s/step - loss: 177063.2031 - mean_absolute_error: 383.8217 - val_loss: 121093.4297 - val_mean_absolute_error: 347.5213\n",
            "Epoch 35/100\n",
            "\u001b[1m1/1\u001b[0m \u001b[32m━━━━━━━━━━━━━━━━━━━━\u001b[0m\u001b[37m\u001b[0m \u001b[1m44s\u001b[0m 44s/step - loss: 176787.5312 - mean_absolute_error: 383.4629 - val_loss: 120843.0703 - val_mean_absolute_error: 347.1613\n",
            "Epoch 36/100\n",
            "\u001b[1m1/1\u001b[0m \u001b[32m━━━━━━━━━━━━━━━━━━━━\u001b[0m\u001b[37m\u001b[0m \u001b[1m42s\u001b[0m 42s/step - loss: 176511.2969 - mean_absolute_error: 383.1030 - val_loss: 120592.2734 - val_mean_absolute_error: 346.8004\n",
            "Epoch 37/100\n",
            "\u001b[1m1/1\u001b[0m \u001b[32m━━━━━━━━━━━━━━━━━━━━\u001b[0m\u001b[37m\u001b[0m \u001b[1m41s\u001b[0m 41s/step - loss: 176234.5781 - mean_absolute_error: 382.7421 - val_loss: 120341.0781 - val_mean_absolute_error: 346.4386\n",
            "Epoch 38/100\n",
            "\u001b[1m1/1\u001b[0m \u001b[32m━━━━━━━━━━━━━━━━━━━━\u001b[0m\u001b[37m\u001b[0m \u001b[1m87s\u001b[0m 87s/step - loss: 175957.3594 - mean_absolute_error: 382.3802 - val_loss: 120089.6016 - val_mean_absolute_error: 346.0759\n",
            "Epoch 39/100\n",
            "\u001b[1m1/1\u001b[0m \u001b[32m━━━━━━━━━━━━━━━━━━━━\u001b[0m\u001b[37m\u001b[0m \u001b[1m46s\u001b[0m 46s/step - loss: 175679.7812 - mean_absolute_error: 382.0176 - val_loss: 119837.8359 - val_mean_absolute_error: 345.7125\n",
            "Epoch 40/100\n",
            "\u001b[1m1/1\u001b[0m \u001b[32m━━━━━━━━━━━━━━━━━━━━\u001b[0m\u001b[37m\u001b[0m \u001b[1m46s\u001b[0m 46s/step - loss: 175401.9375 - mean_absolute_error: 381.6541 - val_loss: 119585.8984 - val_mean_absolute_error: 345.3484\n",
            "Epoch 41/100\n",
            "\u001b[1m1/1\u001b[0m \u001b[32m━━━━━━━━━━━━━━━━━━━━\u001b[0m\u001b[37m\u001b[0m \u001b[1m77s\u001b[0m 77s/step - loss: 175123.8281 - mean_absolute_error: 381.2900 - val_loss: 119333.7969 - val_mean_absolute_error: 344.9836\n",
            "Epoch 42/100\n",
            "\u001b[1m1/1\u001b[0m \u001b[32m━━━━━━━━━━━━━━━━━━━━\u001b[0m\u001b[37m\u001b[0m \u001b[1m82s\u001b[0m 82s/step - loss: 174845.5000 - mean_absolute_error: 380.9252 - val_loss: 119081.5703 - val_mean_absolute_error: 344.6183\n",
            "Epoch 43/100\n",
            "\u001b[1m1/1\u001b[0m \u001b[32m━━━━━━━━━━━━━━━━━━━━\u001b[0m\u001b[37m\u001b[0m \u001b[1m41s\u001b[0m 41s/step - loss: 174566.9844 - mean_absolute_error: 380.5600 - val_loss: 118829.2969 - val_mean_absolute_error: 344.2525\n",
            "Epoch 44/100\n",
            "\u001b[1m1/1\u001b[0m \u001b[32m━━━━━━━━━━━━━━━━━━━━\u001b[0m\u001b[37m\u001b[0m \u001b[1m42s\u001b[0m 42s/step - loss: 174288.4219 - mean_absolute_error: 380.1942 - val_loss: 118576.9375 - val_mean_absolute_error: 343.8862\n",
            "Epoch 45/100\n",
            "\u001b[1m1/1\u001b[0m \u001b[32m━━━━━━━━━━━━━━━━━━━━\u001b[0m\u001b[37m\u001b[0m \u001b[1m86s\u001b[0m 86s/step - loss: 174009.7812 - mean_absolute_error: 379.8279 - val_loss: 118324.6016 - val_mean_absolute_error: 343.5196\n",
            "Epoch 46/100\n",
            "\u001b[1m1/1\u001b[0m \u001b[32m━━━━━━━━━━━━━━━━━━━━\u001b[0m\u001b[37m\u001b[0m \u001b[1m41s\u001b[0m 41s/step - loss: 173731.0312 - mean_absolute_error: 379.4613 - val_loss: 118072.2891 - val_mean_absolute_error: 343.1525\n",
            "Epoch 47/100\n",
            "\u001b[1m1/1\u001b[0m \u001b[32m━━━━━━━━━━━━━━━━━━━━\u001b[0m\u001b[37m\u001b[0m \u001b[1m81s\u001b[0m 81s/step - loss: 173452.3438 - mean_absolute_error: 379.0942 - val_loss: 117820.0078 - val_mean_absolute_error: 342.7851\n",
            "Epoch 48/100\n",
            "\u001b[1m1/1\u001b[0m \u001b[32m━━━━━━━━━━━━━━━━━━━━\u001b[0m\u001b[37m\u001b[0m \u001b[1m42s\u001b[0m 42s/step - loss: 173173.6562 - mean_absolute_error: 378.7268 - val_loss: 117567.7969 - val_mean_absolute_error: 342.4174\n",
            "Epoch 49/100\n",
            "\u001b[1m1/1\u001b[0m \u001b[32m━━━━━━━━━━━━━━━━━━━━\u001b[0m\u001b[37m\u001b[0m \u001b[1m42s\u001b[0m 42s/step - loss: 172895.0312 - mean_absolute_error: 378.3591 - val_loss: 117315.6641 - val_mean_absolute_error: 342.0494\n",
            "Epoch 50/100\n",
            "\u001b[1m1/1\u001b[0m \u001b[32m━━━━━━━━━━━━━━━━━━━━\u001b[0m\u001b[37m\u001b[0m \u001b[1m82s\u001b[0m 82s/step - loss: 172616.4375 - mean_absolute_error: 377.9911 - val_loss: 117063.6562 - val_mean_absolute_error: 341.6812\n",
            "Epoch 51/100\n",
            "\u001b[1m1/1\u001b[0m \u001b[32m━━━━━━━━━━━━━━━━━━━━\u001b[0m\u001b[37m\u001b[0m \u001b[1m82s\u001b[0m 82s/step - loss: 172337.9531 - mean_absolute_error: 377.6229 - val_loss: 116811.7578 - val_mean_absolute_error: 341.3128\n",
            "Epoch 52/100\n",
            "\u001b[1m1/1\u001b[0m \u001b[32m━━━━━━━━━━━━━━━━━━━━\u001b[0m\u001b[37m\u001b[0m \u001b[1m40s\u001b[0m 40s/step - loss: 172059.5781 - mean_absolute_error: 377.2545 - val_loss: 116560.0000 - val_mean_absolute_error: 340.9442\n",
            "Epoch 53/100\n",
            "\u001b[1m1/1\u001b[0m \u001b[32m━━━━━━━━━━━━━━━━━━━━\u001b[0m\u001b[37m\u001b[0m \u001b[1m41s\u001b[0m 41s/step - loss: 171781.3125 - mean_absolute_error: 376.8859 - val_loss: 116308.3828 - val_mean_absolute_error: 340.5753\n",
            "Epoch 54/100\n",
            "\u001b[1m1/1\u001b[0m \u001b[32m━━━━━━━━━━━━━━━━━━━━\u001b[0m\u001b[37m\u001b[0m \u001b[1m42s\u001b[0m 42s/step - loss: 171503.2188 - mean_absolute_error: 376.5170 - val_loss: 116056.9453 - val_mean_absolute_error: 340.2064\n",
            "Epoch 55/100\n",
            "\u001b[1m1/1\u001b[0m \u001b[32m━━━━━━━━━━━━━━━━━━━━\u001b[0m\u001b[37m\u001b[0m \u001b[1m81s\u001b[0m 81s/step - loss: 171225.2344 - mean_absolute_error: 376.1480 - val_loss: 115805.6875 - val_mean_absolute_error: 339.8372\n",
            "Epoch 56/100\n",
            "\u001b[1m1/1\u001b[0m \u001b[32m━━━━━━━━━━━━━━━━━━━━\u001b[0m\u001b[37m\u001b[0m \u001b[1m38s\u001b[0m 38s/step - loss: 170947.4531 - mean_absolute_error: 375.7789 - val_loss: 115554.5938 - val_mean_absolute_error: 339.4680\n",
            "Epoch 57/100\n",
            "\u001b[1m1/1\u001b[0m \u001b[32m━━━━━━━━━━━━━━━━━━━━\u001b[0m\u001b[37m\u001b[0m \u001b[1m41s\u001b[0m 41s/step - loss: 170669.8281 - mean_absolute_error: 375.4096 - val_loss: 115303.7188 - val_mean_absolute_error: 339.0986\n",
            "Epoch 58/100\n",
            "\u001b[1m1/1\u001b[0m \u001b[32m━━━━━━━━━━━━━━━━━━━━\u001b[0m\u001b[37m\u001b[0m \u001b[1m44s\u001b[0m 44s/step - loss: 170392.3594 - mean_absolute_error: 375.0402 - val_loss: 115053.0391 - val_mean_absolute_error: 338.7291\n",
            "Epoch 59/100\n",
            "\u001b[1m1/1\u001b[0m \u001b[32m━━━━━━━━━━━━━━━━━━━━\u001b[0m\u001b[37m\u001b[0m \u001b[1m83s\u001b[0m 83s/step - loss: 170115.0938 - mean_absolute_error: 374.6707 - val_loss: 114802.5469 - val_mean_absolute_error: 338.3594\n",
            "Epoch 60/100\n",
            "\u001b[1m1/1\u001b[0m \u001b[32m━━━━━━━━━━━━━━━━━━━━\u001b[0m\u001b[37m\u001b[0m \u001b[1m46s\u001b[0m 46s/step - loss: 169838.0469 - mean_absolute_error: 374.3011 - val_loss: 114552.2812 - val_mean_absolute_error: 337.9897\n",
            "Epoch 61/100\n",
            "\u001b[1m1/1\u001b[0m \u001b[32m━━━━━━━━━━━━━━━━━━━━\u001b[0m\u001b[37m\u001b[0m \u001b[1m45s\u001b[0m 45s/step - loss: 169561.2500 - mean_absolute_error: 373.9314 - val_loss: 114302.2344 - val_mean_absolute_error: 337.6199\n",
            "Epoch 62/100\n",
            "\u001b[1m1/1\u001b[0m \u001b[32m━━━━━━━━━━━━━━━━━━━━\u001b[0m\u001b[37m\u001b[0m \u001b[1m76s\u001b[0m 76s/step - loss: 169284.6094 - mean_absolute_error: 373.5616 - val_loss: 114052.4141 - val_mean_absolute_error: 337.2501\n",
            "Epoch 63/100\n",
            "\u001b[1m1/1\u001b[0m \u001b[32m━━━━━━━━━━━━━━━━━━━━\u001b[0m\u001b[37m\u001b[0m \u001b[1m39s\u001b[0m 39s/step - loss: 169008.1875 - mean_absolute_error: 373.1917 - val_loss: 113802.8359 - val_mean_absolute_error: 336.8802\n",
            "Epoch 64/100\n",
            "\u001b[1m1/1\u001b[0m \u001b[32m━━━━━━━━━━━━━━━━━━━━\u001b[0m\u001b[37m\u001b[0m \u001b[1m45s\u001b[0m 45s/step - loss: 168732.0156 - mean_absolute_error: 372.8219 - val_loss: 113553.4844 - val_mean_absolute_error: 336.5102\n",
            "Epoch 65/100\n",
            "\u001b[1m1/1\u001b[0m \u001b[32m━━━━━━━━━━━━━━━━━━━━\u001b[0m\u001b[37m\u001b[0m \u001b[1m80s\u001b[0m 80s/step - loss: 168456.1094 - mean_absolute_error: 372.4518 - val_loss: 113304.3906 - val_mean_absolute_error: 336.1401\n",
            "Epoch 66/100\n",
            "\u001b[1m1/1\u001b[0m \u001b[32m━━━━━━━━━━━━━━━━━━━━\u001b[0m\u001b[37m\u001b[0m \u001b[1m40s\u001b[0m 40s/step - loss: 168180.3750 - mean_absolute_error: 372.0818 - val_loss: 113055.5156 - val_mean_absolute_error: 335.7700\n",
            "Epoch 67/100\n",
            "\u001b[1m1/1\u001b[0m \u001b[32m━━━━━━━━━━━━━━━━━━━━\u001b[0m\u001b[37m\u001b[0m \u001b[1m40s\u001b[0m 40s/step - loss: 167904.9062 - mean_absolute_error: 371.7117 - val_loss: 112806.8750 - val_mean_absolute_error: 335.3999\n",
            "Epoch 68/100\n",
            "\u001b[1m1/1\u001b[0m \u001b[32m━━━━━━━━━━━━━━━━━━━━\u001b[0m\u001b[37m\u001b[0m \u001b[1m41s\u001b[0m 41s/step - loss: 167629.6719 - mean_absolute_error: 371.3415 - val_loss: 112558.5000 - val_mean_absolute_error: 335.0297\n",
            "Epoch 69/100\n",
            "\u001b[1m1/1\u001b[0m \u001b[32m━━━━━━━━━━━━━━━━━━━━\u001b[0m\u001b[37m\u001b[0m \u001b[1m38s\u001b[0m 38s/step - loss: 167354.6719 - mean_absolute_error: 370.9713 - val_loss: 112310.3828 - val_mean_absolute_error: 334.6595\n",
            "Epoch 70/100\n",
            "\u001b[1m1/1\u001b[0m \u001b[32m━━━━━━━━━━━━━━━━━━━━\u001b[0m\u001b[37m\u001b[0m \u001b[1m43s\u001b[0m 43s/step - loss: 167079.9531 - mean_absolute_error: 370.6011 - val_loss: 112062.5078 - val_mean_absolute_error: 334.2892\n",
            "Epoch 71/100\n",
            "\u001b[1m1/1\u001b[0m \u001b[32m━━━━━━━━━━━━━━━━━━━━\u001b[0m\u001b[37m\u001b[0m \u001b[1m42s\u001b[0m 42s/step - loss: 166805.4531 - mean_absolute_error: 370.2308 - val_loss: 111814.8906 - val_mean_absolute_error: 333.9189\n",
            "Epoch 72/100\n",
            "\u001b[1m1/1\u001b[0m \u001b[32m━━━━━━━━━━━━━━━━━━━━\u001b[0m\u001b[37m\u001b[0m \u001b[1m80s\u001b[0m 80s/step - loss: 166531.2031 - mean_absolute_error: 369.8606 - val_loss: 111567.5391 - val_mean_absolute_error: 333.5486\n",
            "Epoch 73/100\n",
            "\u001b[1m1/1\u001b[0m \u001b[32m━━━━━━━━━━━━━━━━━━━━\u001b[0m\u001b[37m\u001b[0m \u001b[1m39s\u001b[0m 39s/step - loss: 166257.2188 - mean_absolute_error: 369.4902 - val_loss: 111320.4297 - val_mean_absolute_error: 333.1782\n",
            "Epoch 74/100\n",
            "\u001b[1m1/1\u001b[0m \u001b[32m━━━━━━━━━━━━━━━━━━━━\u001b[0m\u001b[37m\u001b[0m \u001b[1m43s\u001b[0m 43s/step - loss: 165983.5156 - mean_absolute_error: 369.1199 - val_loss: 111073.5938 - val_mean_absolute_error: 332.8079\n",
            "Epoch 75/100\n",
            "\u001b[1m1/1\u001b[0m \u001b[32m━━━━━━━━━━━━━━━━━━━━\u001b[0m\u001b[37m\u001b[0m \u001b[1m40s\u001b[0m 40s/step - loss: 165710.0625 - mean_absolute_error: 368.7495 - val_loss: 110827.0312 - val_mean_absolute_error: 332.4375\n",
            "Epoch 76/100\n",
            "\u001b[1m1/1\u001b[0m \u001b[32m━━━━━━━━━━━━━━━━━━━━\u001b[0m\u001b[37m\u001b[0m \u001b[1m40s\u001b[0m 40s/step - loss: 165436.8594 - mean_absolute_error: 368.3791 - val_loss: 110580.7109 - val_mean_absolute_error: 332.0671\n",
            "Epoch 77/100\n",
            "\u001b[1m1/1\u001b[0m \u001b[32m━━━━━━━━━━━━━━━━━━━━\u001b[0m\u001b[37m\u001b[0m \u001b[1m43s\u001b[0m 43s/step - loss: 165163.9219 - mean_absolute_error: 368.0087 - val_loss: 110334.6562 - val_mean_absolute_error: 331.6966\n",
            "Epoch 78/100\n",
            "\u001b[1m1/1\u001b[0m \u001b[32m━━━━━━━━━━━━━━━━━━━━\u001b[0m\u001b[37m\u001b[0m \u001b[1m82s\u001b[0m 82s/step - loss: 164891.2656 - mean_absolute_error: 367.6383 - val_loss: 110088.8672 - val_mean_absolute_error: 331.3261\n",
            "Epoch 79/100\n",
            "\u001b[1m1/1\u001b[0m \u001b[32m━━━━━━━━━━━━━━━━━━━━\u001b[0m\u001b[37m\u001b[0m \u001b[1m40s\u001b[0m 40s/step - loss: 164618.8281 - mean_absolute_error: 367.2679 - val_loss: 109843.3672 - val_mean_absolute_error: 330.9557\n",
            "Epoch 80/100\n",
            "\u001b[1m1/1\u001b[0m \u001b[32m━━━━━━━━━━━━━━━━━━━━\u001b[0m\u001b[37m\u001b[0m \u001b[1m41s\u001b[0m 41s/step - loss: 164346.7031 - mean_absolute_error: 366.8973 - val_loss: 109598.1094 - val_mean_absolute_error: 330.5852\n",
            "Epoch 81/100\n",
            "\u001b[1m1/1\u001b[0m \u001b[32m━━━━━━━━━━━━━━━━━━━━\u001b[0m\u001b[37m\u001b[0m \u001b[1m42s\u001b[0m 42s/step - loss: 164074.7969 - mean_absolute_error: 366.5269 - val_loss: 109353.1328 - val_mean_absolute_error: 330.2148\n",
            "Epoch 82/100\n",
            "\u001b[1m1/1\u001b[0m \u001b[32m━━━━━━━━━━━━━━━━━━━━\u001b[0m\u001b[37m\u001b[0m \u001b[1m80s\u001b[0m 80s/step - loss: 163803.1875 - mean_absolute_error: 366.1564 - val_loss: 109108.4219 - val_mean_absolute_error: 329.8442\n",
            "Epoch 83/100\n",
            "\u001b[1m1/1\u001b[0m \u001b[32m━━━━━━━━━━━━━━━━━━━━\u001b[0m\u001b[37m\u001b[0m \u001b[1m41s\u001b[0m 41s/step - loss: 163531.8281 - mean_absolute_error: 365.7859 - val_loss: 108863.9844 - val_mean_absolute_error: 329.4737\n",
            "Epoch 84/100\n",
            "\u001b[1m1/1\u001b[0m \u001b[32m━━━━━━━━━━━━━━━━━━━━\u001b[0m\u001b[37m\u001b[0m \u001b[1m40s\u001b[0m 40s/step - loss: 163260.7656 - mean_absolute_error: 365.4154 - val_loss: 108619.8125 - val_mean_absolute_error: 329.1032\n",
            "Epoch 85/100\n",
            "\u001b[1m1/1\u001b[0m \u001b[32m━━━━━━━━━━━━━━━━━━━━\u001b[0m\u001b[37m\u001b[0m \u001b[1m40s\u001b[0m 40s/step - loss: 162990.0000 - mean_absolute_error: 365.0449 - val_loss: 108375.9297 - val_mean_absolute_error: 328.7327\n",
            "Epoch 86/100\n",
            "\u001b[1m1/1\u001b[0m \u001b[32m━━━━━━━━━━━━━━━━━━━━\u001b[0m\u001b[37m\u001b[0m \u001b[1m40s\u001b[0m 40s/step - loss: 162719.4531 - mean_absolute_error: 364.6744 - val_loss: 108132.3047 - val_mean_absolute_error: 328.3622\n",
            "Epoch 87/100\n",
            "\u001b[1m1/1\u001b[0m \u001b[32m━━━━━━━━━━━━━━━━━━━━\u001b[0m\u001b[37m\u001b[0m \u001b[1m40s\u001b[0m 40s/step - loss: 162449.1875 - mean_absolute_error: 364.3038 - val_loss: 107888.9609 - val_mean_absolute_error: 327.9916\n",
            "Epoch 88/100\n",
            "\u001b[1m1/1\u001b[0m \u001b[32m━━━━━━━━━━━━━━━━━━━━\u001b[0m\u001b[37m\u001b[0m \u001b[1m43s\u001b[0m 43s/step - loss: 162179.1875 - mean_absolute_error: 363.9333 - val_loss: 107645.8906 - val_mean_absolute_error: 327.6211\n",
            "Epoch 89/100\n",
            "\u001b[1m1/1\u001b[0m \u001b[32m━━━━━━━━━━━━━━━━━━━━\u001b[0m\u001b[37m\u001b[0m \u001b[1m45s\u001b[0m 45s/step - loss: 161909.4844 - mean_absolute_error: 363.5628 - val_loss: 107403.0938 - val_mean_absolute_error: 327.2506\n",
            "Epoch 90/100\n",
            "\u001b[1m1/1\u001b[0m \u001b[32m━━━━━━━━━━━━━━━━━━━━\u001b[0m\u001b[37m\u001b[0m \u001b[1m40s\u001b[0m 40s/step - loss: 161640.0625 - mean_absolute_error: 363.1923 - val_loss: 107160.5703 - val_mean_absolute_error: 326.8800\n",
            "Epoch 91/100\n",
            "\u001b[1m1/1\u001b[0m \u001b[32m━━━━━━━━━━━━━━━━━━━━\u001b[0m\u001b[37m\u001b[0m \u001b[1m39s\u001b[0m 39s/step - loss: 161370.9062 - mean_absolute_error: 362.8217 - val_loss: 106918.3047 - val_mean_absolute_error: 326.5095\n",
            "Epoch 92/100\n",
            "\u001b[1m1/1\u001b[0m \u001b[32m━━━━━━━━━━━━━━━━━━━━\u001b[0m\u001b[37m\u001b[0m \u001b[1m38s\u001b[0m 38s/step - loss: 161102.0156 - mean_absolute_error: 362.4512 - val_loss: 106676.3438 - val_mean_absolute_error: 326.1390\n",
            "Epoch 93/100\n",
            "\u001b[1m1/1\u001b[0m \u001b[32m━━━━━━━━━━━━━━━━━━━━\u001b[0m\u001b[37m\u001b[0m \u001b[1m30s\u001b[0m 30s/step - loss: 160833.4062 - mean_absolute_error: 362.0806 - val_loss: 106434.6406 - val_mean_absolute_error: 325.7684\n",
            "Epoch 94/100\n",
            "\u001b[1m1/1\u001b[0m \u001b[32m━━━━━━━━━━━━━━━━━━━━\u001b[0m\u001b[37m\u001b[0m \u001b[1m43s\u001b[0m 43s/step - loss: 160565.0938 - mean_absolute_error: 361.7101 - val_loss: 106193.2188 - val_mean_absolute_error: 325.3979\n",
            "Epoch 95/100\n",
            "\u001b[1m1/1\u001b[0m \u001b[32m━━━━━━━━━━━━━━━━━━━━\u001b[0m\u001b[37m\u001b[0m \u001b[1m31s\u001b[0m 31s/step - loss: 160297.0156 - mean_absolute_error: 361.3395 - val_loss: 105952.0859 - val_mean_absolute_error: 325.0273\n",
            "Epoch 96/100\n",
            "\u001b[1m1/1\u001b[0m \u001b[32m━━━━━━━━━━━━━━━━━━━━\u001b[0m\u001b[37m\u001b[0m \u001b[1m31s\u001b[0m 31s/step - loss: 160029.2656 - mean_absolute_error: 360.9690 - val_loss: 105711.2109 - val_mean_absolute_error: 324.6568\n",
            "Epoch 97/100\n",
            "\u001b[1m1/1\u001b[0m \u001b[32m━━━━━━━━━━━━━━━━━━━━\u001b[0m\u001b[37m\u001b[0m \u001b[1m31s\u001b[0m 31s/step - loss: 159761.7500 - mean_absolute_error: 360.5985 - val_loss: 105470.6406 - val_mean_absolute_error: 324.2863\n",
            "Epoch 98/100\n",
            "\u001b[1m1/1\u001b[0m \u001b[32m━━━━━━━━━━━━━━━━━━━━\u001b[0m\u001b[37m\u001b[0m \u001b[1m40s\u001b[0m 40s/step - loss: 159494.5312 - mean_absolute_error: 360.2279 - val_loss: 105230.3281 - val_mean_absolute_error: 323.9158\n",
            "Epoch 99/100\n",
            "\u001b[1m1/1\u001b[0m \u001b[32m━━━━━━━━━━━━━━━━━━━━\u001b[0m\u001b[37m\u001b[0m \u001b[1m41s\u001b[0m 41s/step - loss: 159227.5938 - mean_absolute_error: 359.8574 - val_loss: 104990.3047 - val_mean_absolute_error: 323.5453\n",
            "Epoch 100/100\n",
            "\u001b[1m1/1\u001b[0m \u001b[32m━━━━━━━━━━━━━━━━━━━━\u001b[0m\u001b[37m\u001b[0m \u001b[1m43s\u001b[0m 43s/step - loss: 158960.9375 - mean_absolute_error: 359.4869 - val_loss: 104750.5547 - val_mean_absolute_error: 323.1747\n"
          ]
        }
      ]
    },
    {
      "cell_type": "code",
      "execution_count": 18,
      "metadata": {
        "colab": {
          "base_uri": "https://localhost:8080/",
          "height": 567
        },
        "id": "hodOPJvlDLtd",
        "outputId": "0bc8b27b-934b-4b25-b807-f4c4bff658d3"
      },
      "outputs": [
        {
          "output_type": "stream",
          "name": "stdout",
          "text": [
            "\u001b[1m1/1\u001b[0m \u001b[32m━━━━━━━━━━━━━━━━━━━━\u001b[0m\u001b[37m\u001b[0m \u001b[1m2s\u001b[0m 2s/step - loss: 104750.5547 - mean_absolute_error: 323.1747\n"
          ]
        },
        {
          "output_type": "display_data",
          "data": {
            "text/plain": [
              "<Figure size 1200x800 with 1 Axes>"
            ],
            "image/png": "[encoded data removed]"
          },
          "metadata": {}
        }
      ],
      "source": [
        "########################################## Evaluate model performances ##########################################\n",
        "IPython.display.clear_output()\n",
        "val_performance = {}\n",
        "performance = {}\n",
        "val_performance['lstm_model'] = lstm_model.evaluate(w1.val)\n",
        "performance['Dense'] = lstm_model.evaluate(w1.test, verbose=0)\n",
        "w1.plot(lstm_model)\n",
        "\n"
      ]
    },
    {
      "cell_type": "code",
      "source": [
        "\n",
        "########################################## Predictions ##########################################################\n",
        "print(history.history)\n",
        "predictions = lstm_model.predict(w1.test)\n",
        "\n",
        "########################################## References ###########################################################"
      ],
      "metadata": {
        "id": "k9ZabvRYKGVW",
        "colab": {
          "base_uri": "https://localhost:8080/"
        },
        "outputId": "c71adf70-dd45-40a0-aed0-7912b79c502a"
      },
      "execution_count": 19,
      "outputs": [
        {
          "output_type": "stream",
          "name": "stdout",
          "text": [
            "{'loss': [184533.53125, 184521.296875, 184427.171875, 184278.046875, 184125.28125, 183972.296875, 183806.515625, 183618.421875, 183406.328125, 183175.09375, 182934.390625, 182692.96875, 182454.765625, 182219.578125, 181985.484375, 181750.34375, 181512.875, 181272.1875, 181028.0, 180780.328125, 180529.34375, 180275.25, 180018.3125, 179758.78125, 179496.796875, 179232.609375, 178966.4375, 178698.40625, 178428.765625, 178157.765625, 177885.578125, 177612.28125, 177338.109375, 177063.203125, 176787.53125, 176511.296875, 176234.578125, 175957.359375, 175679.78125, 175401.9375, 175123.828125, 174845.5, 174566.984375, 174288.421875, 174009.78125, 173731.03125, 173452.34375, 173173.65625, 172895.03125, 172616.4375, 172337.953125, 172059.578125, 171781.3125, 171503.21875, 171225.234375, 170947.453125, 170669.828125, 170392.359375, 170115.09375, 169838.046875, 169561.25, 169284.609375, 169008.1875, 168732.015625, 168456.109375, 168180.375, 167904.90625, 167629.671875, 167354.671875, 167079.953125, 166805.453125, 166531.203125, 166257.21875, 165983.515625, 165710.0625, 165436.859375, 165163.921875, 164891.265625, 164618.828125, 164346.703125, 164074.796875, 163803.1875, 163531.828125, 163260.765625, 162990.0, 162719.453125, 162449.1875, 162179.1875, 161909.484375, 161640.0625, 161370.90625, 161102.015625, 160833.40625, 160565.09375, 160297.015625, 160029.265625, 159761.75, 159494.53125, 159227.59375, 158960.9375], 'mean_absolute_error': [393.4041748046875, 393.3935852050781, 393.2773132324219, 393.08843994140625, 392.8949890136719, 392.701171875, 392.4908752441406, 392.2520751953125, 391.9825134277344, 391.6882629394531, 391.3816223144531, 391.0738525390625, 390.7698974609375, 390.4695739746094, 390.1702880859375, 389.86962890625, 389.5656433105469, 389.2572021484375, 388.9441223144531, 388.62615966796875, 388.30377197265625, 387.97705078125, 387.64642333984375, 387.31207275390625, 386.9743347167969, 386.6333923339844, 386.28948974609375, 385.9429931640625, 385.5940856933594, 385.2430114746094, 384.8900146484375, 384.5353698730469, 384.17919921875, 383.8216552734375, 383.4629211425781, 383.10302734375, 382.7420959472656, 382.3802490234375, 382.017578125, 381.6541442871094, 381.2900390625, 380.92523193359375, 380.5599670410156, 380.1941833496094, 379.8279113769531, 379.4612731933594, 379.09417724609375, 378.7267761230469, 378.3591003417969, 377.9910888671875, 377.6229248046875, 377.2544860839844, 376.8858642578125, 376.5169982910156, 376.1480407714844, 375.7789001464844, 375.40960693359375, 375.04022216796875, 374.6707458496094, 374.3011169433594, 373.9314270019531, 373.5616149902344, 373.1917419433594, 372.8218688964844, 372.4518127441406, 372.0817565917969, 371.7117004394531, 371.3415222167969, 370.9713439941406, 370.60113525390625, 370.2308349609375, 369.8605651855469, 369.490234375, 369.11993408203125, 368.74951171875, 368.3791198730469, 368.0086975097656, 367.6383056640625, 367.2678527832031, 366.8973388671875, 366.52691650390625, 366.1564025878906, 365.7859191894531, 365.4154052734375, 365.04486083984375, 364.67437744140625, 364.3038330078125, 363.93328857421875, 363.5627746582031, 363.1922607421875, 362.8216552734375, 362.451171875, 362.08062744140625, 361.7100830078125, 361.3395080566406, 360.9690246582031, 360.5984802246094, 360.2279357910156, 359.857421875, 359.4869384765625], 'val_loss': [128116.0390625, 128044.65625, 127897.0546875, 127753.765625, 127614.25, 127463.515625, 127292.578125, 127099.8359375, 126889.7734375, 126671.078125, 126451.8046875, 126235.4296875, 126021.8046875, 125809.1953125, 125595.734375, 125380.09375, 125161.5625, 124939.890625, 124715.0390625, 124487.2421875, 124256.65625, 124023.484375, 123787.9921875, 123550.2890625, 123310.6015625, 123069.1171875, 122826.03125, 122581.5078125, 122335.71875, 122088.84375, 121841.0859375, 121592.515625, 121343.2734375, 121093.4296875, 120843.0703125, 120592.2734375, 120341.078125, 120089.6015625, 119837.8359375, 119585.8984375, 119333.796875, 119081.5703125, 118829.296875, 118576.9375, 118324.6015625, 118072.2890625, 117820.0078125, 117567.796875, 117315.6640625, 117063.65625, 116811.7578125, 116560.0, 116308.3828125, 116056.9453125, 115805.6875, 115554.59375, 115303.71875, 115053.0390625, 114802.546875, 114552.28125, 114302.234375, 114052.4140625, 113802.8359375, 113553.484375, 113304.390625, 113055.515625, 112806.875, 112558.5, 112310.3828125, 112062.5078125, 111814.890625, 111567.5390625, 111320.4296875, 111073.59375, 110827.03125, 110580.7109375, 110334.65625, 110088.8671875, 109843.3671875, 109598.109375, 109353.1328125, 109108.421875, 108863.984375, 108619.8125, 108375.9296875, 108132.3046875, 107888.9609375, 107645.890625, 107403.09375, 107160.5703125, 106918.3046875, 106676.34375, 106434.640625, 106193.21875, 105952.0859375, 105711.2109375, 105470.640625, 105230.328125, 104990.3046875, 104750.5546875], 'val_mean_absolute_error': [357.45550537109375, 357.358642578125, 357.15362548828125, 356.9541015625, 356.75970458984375, 356.54931640625, 356.31048583984375, 356.0408630371094, 355.7466125488281, 355.43994140625, 355.1321716308594, 354.8282165527344, 354.52789306640625, 354.2286071777344, 353.927978515625, 353.6239318847656, 353.3155212402344, 353.0024108886719, 352.68450927734375, 352.3620910644531, 352.0354309082031, 351.70477294921875, 351.3703918457031, 351.03265380859375, 350.6917419433594, 350.3478698730469, 350.0013122558594, 349.65240478515625, 349.30133056640625, 348.9483337402344, 348.5937194824219, 348.2375183105469, 347.8800048828125, 347.52130126953125, 347.1613464355469, 346.8004150390625, 346.4385681152344, 346.075927734375, 345.71246337890625, 345.3483581542969, 344.9836120605469, 344.6182861328125, 344.2525329589844, 343.88623046875, 343.51959228515625, 343.15252685546875, 342.7851257324219, 342.4174499511719, 342.0494384765625, 341.6812438964844, 341.3128356933594, 340.9441833496094, 340.5753173828125, 340.20635986328125, 339.83721923828125, 339.46795654296875, 339.09857177734375, 338.72906494140625, 338.35943603515625, 337.9897155761719, 337.61993408203125, 337.25006103515625, 336.8801574707031, 336.51019287109375, 336.1401062011719, 335.77001953125, 335.3998718261719, 335.0296936035156, 334.65948486328125, 334.2891845703125, 333.91888427734375, 333.548583984375, 333.17822265625, 332.807861328125, 332.4374694824219, 332.06707763671875, 331.6966247558594, 331.3261413574219, 330.9556884765625, 330.5852355957031, 330.2147521972656, 329.8442077636719, 329.47369384765625, 329.10321044921875, 328.7326965332031, 328.3621826171875, 327.99163818359375, 327.62109375, 327.2505798339844, 326.8800048828125, 326.5094909667969, 326.13897705078125, 325.7684326171875, 325.39788818359375, 325.02734375, 324.65679931640625, 324.28631591796875, 323.915771484375, 323.5452575683594, 323.17474365234375]}\n",
            "\u001b[1m1/1\u001b[0m \u001b[32m━━━━━━━━━━━━━━━━━━━━\u001b[0m\u001b[37m\u001b[0m \u001b[1m4s\u001b[0m 4s/step\n"
          ]
        }
      ]
    }
  ]
}